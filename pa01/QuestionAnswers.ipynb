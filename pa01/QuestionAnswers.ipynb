{
 "cells": [
  {
   "cell_type": "markdown",
   "metadata": {
    "tags": []
   },
   "source": [
    "Part 5 of PA01"
   ]
  },
  {
   "cell_type": "code",
   "execution_count": 1,
   "metadata": {},
   "outputs": [],
   "source": [
    "import json"
   ]
  },
  {
   "cell_type": "code",
   "execution_count": 6,
   "metadata": {},
   "outputs": [],
   "source": [
    "with open(\"courses20-21.json\",\"r\",encoding='utf-8') as jsonfile:\n",
    "    courses = json.load(jsonfile)"
   ]
  },
  {
   "cell_type": "markdown",
   "metadata": {},
   "source": [
    "5a: what is the total number of students taking COSI courses last year?"
   ]
  },
  {
   "cell_type": "code",
   "execution_count": 7,
   "metadata": {
    "tags": []
   },
   "outputs": [
    {
     "name": "stdout",
     "output_type": "stream",
     "text": [
      "27\n"
     ]
    }
   ],
   "source": [
    "#create set (because sets don't allow duplicates\n",
    "cosiFaculty = set(())\n",
    "for i in courses:\n",
    "    if i['subject'] == 'COSI':\n",
    "        cosiFaculty.add(i['instructor'][2])\n",
    "print(len(cosiFaculty))"
   ]
  },
  {
   "cell_type": "markdown",
   "metadata": {},
   "source": [
    "5b: what is the total number of students taking COSI courses last year?"
   ]
  },
  {
   "cell_type": "code",
   "execution_count": 4,
   "metadata": {},
   "outputs": [
    {
     "name": "stdout",
     "output_type": "stream",
     "text": [
      "2223\n"
     ]
    }
   ],
   "source": [
    "studentNumbers = 0\n",
    "for i in courses:\n",
    "    if i['subject'] == 'COSI':\n",
    "        studentNumbers += i['enrolled']\n",
    "print(studentNumbers)"
   ]
  },
  {
   "cell_type": "markdown",
   "metadata": {},
   "source": [
    "5c: what was the median size of a COSI course last year (counting only those courses with at least 10 students)"
   ]
  },
  {
   "cell_type": "code",
   "execution_count": 5,
   "metadata": {},
   "outputs": [
    {
     "name": "stdout",
     "output_type": "stream",
     "text": [
      "49.951219512195124\n"
     ]
    }
   ],
   "source": [
    "studentCount = 0\n",
    "courseCount = 0\n",
    "for i in courses:\n",
    "    if i['subject'] == 'COSI' and i['enrolled'] >= 10:\n",
    "        studentCount += i['enrolled']\n",
    "        courseCount += 1\n",
    "averageSize = studentCount/courseCount\n",
    "print(averageSize)"
   ]
  },
  {
   "cell_type": "code",
   "execution_count": 6,
   "metadata": {},
   "outputs": [
    {
     "name": "stdout",
     "output_type": "stream",
     "text": [
      "['HS', 'BIOL', 'HWL', 'ENG', 'PHYS', 'FA', 'ED', 'UWS', 'LGLS', 'HSSP']\n"
     ]
    }
   ],
   "source": [
    "#5d.\n",
    "list=[]\n",
    "Count=0\n",
    "counter=0\n",
    "list1=[]\n",
    "checker=0\n",
    "max=(-1,\"\")\n",
    "for i in range(0,len(courses)):\n",
    "    Count=0\n",
    "    for p in range(len(list)):\n",
    "        if (courses[i]['subject']==list[p][1]):\n",
    "            Count=1\n",
    "    if (Count!=1):\n",
    "        counter=0\n",
    "        for l in range(i,len(courses)):\n",
    "            if (courses[i]['subject']==courses[l]['subject']):\n",
    "                counter+=courses[l]['enrolled']\n",
    "        list.append((counter,courses[i]['subject']))\n",
    "for m in range(10):\n",
    "    max=(-1,\"\")\n",
    "    for z in range(0,len(list)):\n",
    "        if (list[z][0]>max[0]):\n",
    "            checker=0\n",
    "            for em in range(len(list1)):\n",
    "                if (list[em][1]==list[z][1]):\n",
    "                    checker=1\n",
    "            if (checker!=1):\n",
    "                max=list[z]\n",
    "                list[z]=(-1,\"\")\n",
    "    list1.append(max[1])\n",
    "print(list1)"
   ]
  },
  {
   "cell_type": "code",
   "execution_count": 8,
   "metadata": {},
   "outputs": [
    {
     "name": "stdout",
     "output_type": "stream",
     "text": [
      "['BIOL', 'PSYC', 'NEUR', 'BCHM', 'NEJS', 'FA', 'HWL', 'AMST', 'COML', 'HSSP']\n"
     ]
    }
   ],
   "source": [
    "#5e.\n",
    "list=[]\n",
    "Count=0\n",
    "counter=0\n",
    "list1=[]\n",
    "checker=0\n",
    "max=(-1,\"\")\n",
    "for i in range(0,len(courses)):\n",
    "    Count=0\n",
    "    for p in range(len(list)):\n",
    "        if (courses[i]['subject']==list[p][1]):\n",
    "            Count=1\n",
    "    if (Count!=1):\n",
    "        counter=0\n",
    "        for l in range(i,len(courses)):\n",
    "            if (courses[i]['subject']==courses[l]['subject']):\n",
    "                counter+=1\n",
    "        list.append((counter,courses[i]['subject']))\n",
    "for m in range(10):\n",
    "    max=(-1,\"\")\n",
    "    for z in range(0,len(list)):\n",
    "        if (list[z][0]>max[0]):\n",
    "            checker=0\n",
    "            for em in range(len(list1)):\n",
    "                if (list[em][1]==list[z][1]):\n",
    "                    checker=1\n",
    "            if (checker!=1):\n",
    "                max=list[z]\n",
    "                list[z]=(-1,\"\")\n",
    "    list1.append(max[1])\n",
    "print(list1)"
   ]
  },
  {
   "cell_type": "markdown",
   "metadata": {},
   "source": [
    "This shows that I can edit and git push -Lucian"
   ]
  },
  {
   "cell_type": "code",
   "execution_count": 8,
   "metadata": {},
   "outputs": [
    {
     "name": "stdout",
     "output_type": "stream",
     "text": [
      "['HRNS', 'BUS', 'ECON', 'FIN', 'HS', 'ANTH', 'CHEM', 'PHIL', 'HIST', 'PSYC']\n"
     ]
    }
   ],
   "source": [
    "#5f.\n",
    "list=[]\n",
    "Count=0\n",
    "counter=0\n",
    "list1=[]\n",
    "checker=0\n",
    "listed=[]\n",
    "exe=0\n",
    "max=(-1,\"\")\n",
    "for i in range(0,len(courses)):\n",
    "    Count=0\n",
    "    for p in range(len(list)):\n",
    "        if (courses[i]['subject']==list[p][1]):\n",
    "            Count=1\n",
    "    if (Count!=1):\n",
    "        counter=0\n",
    "        listed=[]\n",
    "        for l in range(i,len(courses)):\n",
    "            if (courses[i]['subject']==courses[l]['subject']):\n",
    "                for pe in range(0,len(listed)):\n",
    "                    if (courses[i][instructors][2]==listed[pe]): \n",
    "                        exe=0\n",
    "                    else:\n",
    "                        listed.append(courses[i][instructors][2])\n",
    "                        counter+=1\n",
    "        list.append((counter,courses[i]['subject']))\n",
    "for m in range(10):\n",
    "    max=(-1,\"\")\n",
    "    for z in range(0,len(list)):\n",
    "        if (list[z][0]>max[0]):\n",
    "            checker=0\n",
    "            for em in range(len(list1)):\n",
    "                if (list[em][1]==list[z][1]):\n",
    "                    checker=1\n",
    "            if (checker!=1):\n",
    "                max=list[z]\n",
    "                list[z]=(-1,\"\")\n",
    "    list1.append(max[1])\n",
    "print(list1)"
   ]
  },
  {
   "cell_type": "code",
   "execution_count": 9,
   "metadata": {},
   "outputs": [
    {
     "name": "stdout",
     "output_type": "stream",
     "text": [
      "['cpowley@brandeis.edu', 'sliu2@brandeis.edu', 'zjucamu@brandeis.edu', 'mengnansunny@brandeis.edu', 'asoed@brandeis.edu', 'zyfdg@brandeis.edu', 'swterry@brandeis.edu', 'crufener@brandeis.edu', 'richardwilliams@brandeis.edu', 'rrotti@brandeis.edu', 'kalee@brandeis.edu', 'mebrahimi@brandeis.edu', 'ath459@brandeis.edu', 'toke@brandeis.edu', 'strackstrack@brandeis.edu', 'alaski@brandeis.edu', 'acanelli@brandeis.edu', 'mmehdar@brandeis.edu', 'scampion@brandeis.edu', 'natalialaas@brandeis.edu']\n"
     ]
    }
   ],
   "source": [
    "faculty = {}\n",
    "for i in courses:\n",
    "    if i['instructor'][2] in faculty:\n",
    "        faculty[i['instructor'][2]] += i['enrolled']\n",
    "    else:\n",
    "        faculty[i['instructor'][2]] = i['enrolled']\n",
    "#print(faculty)\n",
    "\n",
    "top20 = []\n",
    "for i in faculty:\n",
    "    if len(top20) < 20:\n",
    "        top20.append(i)\n",
    "    else:\n",
    "        for j in top20:\n",
    "            if faculty[i] > faculty[j]:\n",
    "                top20.remove(j)\n",
    "                top20.append(i)\n",
    "                faculty[i] = 0\n",
    "\n",
    "print(top20)"
   ]
  },
  {
   "cell_type": "code",
   "execution_count": 10,
   "metadata": {},
   "outputs": [
    {
     "name": "stdout",
     "output_type": "stream",
     "text": [
      "[('ED', '157B'), ('GECS', '188B'), ('SOC', '82A'), ('ENG', '147A'), ('ENG', '180A'), ('PHIL', '139B'), ('COSI', '152A'), ('COSI', '153A'), ('ENG', '126B'), ('ECON', '142B'), ('BUS', '118A'), ('FA', '28A'), ('FA', '45A'), ('BISC', '10B'), ('BISC', '11A'), ('INT', '92G'), ('PSYC', '148A'), ('THA', '2A'), ('BIOL', '26A'), ('HIST', '118A')]\n"
     ]
    }
   ],
   "source": [
    "for course in courses:\n",
    "       course['code']= tuple(course['code'])\n",
    "\n",
    "courseTotals = {}\n",
    "for i in courses:\n",
    "   if i['code'] in courseTotals:\n",
    "       courseTotals[i['code']] += i['enrolled']\n",
    "   else:\n",
    "       courseTotals[i['code']] = i['enrolled']\n",
    "\n",
    "top20c = []\n",
    "for i in courseTotals:\n",
    "   if len(top20c) < 20:\n",
    "       top20c.append(i)\n",
    "   else:\n",
    "       for j in top20c:\n",
    "           if courseTotals[i] > courseTotals[j]:\n",
    "               top20c.remove(j)\n",
    "               top20c.append(i)\n",
    "               courseTotals[i] = 0\n",
    "\n",
    "print(top20c)"
   ]
  },
  {
   "cell_type": "markdown",
   "metadata": {},
   "source": [
    "Lucians 5i is immediately below this text: my program calculates the avg limit of students in classes at brandeis, null limits are not factored in"
   ]
  },
  {
   "cell_type": "code",
   "execution_count": 11,
   "metadata": {},
   "outputs": [
    {
     "name": "stdout",
     "output_type": "stream",
     "text": [
      "28.65944645006017\n"
     ]
    }
   ],
   "source": [
    "divider=0\n",
    "counter=0\n",
    "for i in range(0,len(courses)):\n",
    "    if courses[i]['limit']!=None:\n",
    "        counter+=courses[i]['limit']\n",
    "        divider+=1\n",
    "answer=counter/divider\n",
    "print(answer)\n",
    "        "
   ]
  },
  {
   "cell_type": "markdown",
   "metadata": {},
   "source": [
    "5i-Isaac: what percentage of courses are independent studies"
   ]
  },
  {
   "cell_type": "code",
   "execution_count": 12,
   "metadata": {},
   "outputs": [
    {
     "name": "stdout",
     "output_type": "stream",
     "text": [
      "0.7\n"
     ]
    }
   ],
   "source": [
    " numCourses = 0\n",
    "numIS = 0\n",
    "\n",
    "for i in courses:\n",
    "    numCourses += 1;\n",
    "    if i['independent_study'] == True:\n",
    "        numIS += 1\n",
    "        \n",
    "percentage = numIS/numCourses\n",
    "print(round(percentage, 2))\n"
   ]
  },
  {
   "cell_type": "markdown",
   "metadata": {},
   "source": [
    "5i-Mat: what is the average number of courses (with >= 1 student enrolled) taught by a brandeis professor "
   ]
  },
  {
   "cell_type": "code",
   "execution_count": 13,
   "metadata": {},
   "outputs": [
    {
     "name": "stdout",
     "output_type": "stream",
     "text": [
      "2\n"
     ]
    }
   ],
   "source": [
    "professors = {}\n",
    "for c in courses:\n",
    "    if c['instructor'][2] in professors and c['enrolled'] > 0:\n",
    "        professors[c['instructor'][2]] += 1\n",
    "    else:\n",
    "        professors[c['instructor'][2]] = 1\n",
    "\n",
    "#print(professors)\n",
    "num_professor = 0\n",
    "total_courses = 0\n",
    "for n in professors:\n",
    "    num_professor += 1\n",
    "    total_courses += professors[n]\n",
    "    \n",
    "avg_courses = total_courses//num_professor\n",
    "print(avg_courses)"
   ]
  },
  {
   "cell_type": "code",
   "execution_count": null,
   "metadata": {},
   "outputs": [],
   "source": []
  }
 ],
 "metadata": {
  "interpreter": {
   "hash": "aee8b7b246df8f9039afb4144a1f6fd8d2ca17a180786b69acc140d282b71a49"
  },
  "kernelspec": {
   "display_name": "Python 3",
   "language": "python",
   "name": "python3"
  },
  "language_info": {
   "codemirror_mode": {
    "name": "ipython",
    "version": 3
   },
   "file_extension": ".py",
   "mimetype": "text/x-python",
   "name": "python",
   "nbconvert_exporter": "python",
   "pygments_lexer": "ipython3",
   "version": "3.8.3"
  }
 },
 "nbformat": 4,
 "nbformat_minor": 5
}
