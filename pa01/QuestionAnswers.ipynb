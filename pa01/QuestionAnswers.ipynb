{
 "cells": [
  {
   "cell_type": "markdown",
   "id": "a8993e86-6cba-472e-bef0-b356a7f6ffb3",
   "metadata": {
    "tags": []
   },
   "source": [
    "Part 5 of PA01"
   ]
  },
  {
   "cell_type": "code",
   "execution_count": null,
   "id": "f3a0df92-bb81-4718-ab6c-64db7520fe07",
   "metadata": {},
   "outputs": [],
   "source": [
    "import json"
   ]
  },
  {
   "cell_type": "code",
   "execution_count": null,
   "id": "e3a5b8f1-e683-4dab-a828-5298a98ced08",
   "metadata": {},
   "outputs": [],
   "source": [
    "with open(\"courses20-21.json\",\"r\",encoding='utf-8') as jsonfile:\n",
    "    courses = json.load(jsonfile)"
   ]
  },
  {
   "cell_type": "markdown",
   "id": "b6273e3d-5627-41f9-987d-dd8bfba37c08",
   "metadata": {},
   "source": [
    "5a: what is the total number of students taking COSI courses last year?"
   ]
  },
  {
   "cell_type": "code",
   "execution_count": null,
   "id": "17f34b3a-85d4-4c5c-827f-8267c631c843",
   "metadata": {
    "tags": []
   },
   "outputs": [],
   "source": [
    "#create set (because sets don't allow duplicates\n",
    "cosiFaculty = set(())\n",
    "for i in courses:\n",
    "    if i['subject'] == 'COSI':\n",
    "        cosiFaculty.add(i['instructor'][2])\n",
    "print(len(cosiFaculty))"
   ]
  },
  {
   "cell_type": "markdown",
   "id": "e8a41d2d-bd57-4864-a4a2-f0aeafce6ad6",
   "metadata": {},
   "source": [
    "5b: what is the total number of students taking COSI courses last year?"
   ]
  },
  {
   "cell_type": "code",
   "execution_count": null,
   "id": "37af3ec8-e3f5-4f13-8ee3-e23187245bb3",
   "metadata": {},
   "outputs": [],
   "source": [
    "studentNumbers = 0\n",
    "for i in courses:\n",
    "    if i['subject'] == 'COSI':\n",
    "        studentNumbers += i['enrolled']\n",
    "print(studentNumbers)"
   ]
  },
  {
   "cell_type": "markdown",
   "id": "fce8bc89-77c6-425f-ac20-052a511f7e38",
   "metadata": {},
   "source": [
    "5c: what was the median size of a COSI course last year (counting only those courses with at least 10 students)"
   ]
  },
  {
   "cell_type": "code",
   "execution_count": null,
   "id": "7e9922ae-2507-428f-8a22-0613dd3d6caf",
   "metadata": {},
   "outputs": [],
   "source": [
    "studentCount = 0\n",
    "courseCount = 0\n",
    "for i in courses:\n",
    "    if i['subject'] == 'COSI' and i['enrolled'] >= 10:\n",
    "        studentCount += i['enrolled']\n",
    "        courseCount += 1\n",
    "averageSize = studentCount/courseCount\n",
    "print(averageSize)"
   ]
  }
 ],
 "metadata": {
  "kernelspec": {
   "display_name": "Python 3 (ipykernel)",
   "language": "python",
   "name": "python3"
  },
  "language_info": {
   "codemirror_mode": {
    "name": "ipython",
    "version": 3
   },
   "file_extension": ".py",
   "mimetype": "text/x-python",
   "name": "python",
   "nbconvert_exporter": "python",
   "pygments_lexer": "ipython3",
   "version": "3.9.7"
  }
 },
 "nbformat": 4,
 "nbformat_minor": 5
}
