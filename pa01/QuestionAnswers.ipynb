{
 "cells": [
  {
   "cell_type": "markdown",
   "metadata": {
    "tags": []
   },
   "source": [
    "Part 5 of PA01"
   ]
  },
  {
   "cell_type": "code",
   "execution_count": 3,
   "metadata": {},
   "outputs": [],
   "source": [
    "import json"
   ]
  },
  {
   "cell_type": "code",
   "execution_count": 4,
   "metadata": {},
   "outputs": [],
   "source": [
    "with open(\"courses20-21.json\",\"r\",encoding='utf-8') as jsonfile:\n",
    "    courses = json.load(jsonfile)"
   ]
  },
  {
   "cell_type": "markdown",
   "metadata": {},
   "source": [
    "5a: what is the total number of students taking COSI courses last year?"
   ]
  },
  {
   "cell_type": "code",
   "execution_count": null,
   "metadata": {
    "tags": []
   },
   "outputs": [],
   "source": [
    "#create set (because sets don't allow duplicates\n",
    "cosiFaculty = set(())\n",
    "for i in courses:\n",
    "    if i['subject'] == 'COSI':\n",
    "        cosiFaculty.add(i['instructor'][2])\n",
    "print(len(cosiFaculty))"
   ]
  },
  {
   "cell_type": "markdown",
   "metadata": {},
   "source": [
    "5b: what is the total number of students taking COSI courses last year?"
   ]
  },
  {
   "cell_type": "code",
   "execution_count": null,
   "metadata": {},
   "outputs": [],
   "source": [
    "studentNumbers = 0\n",
    "for i in courses:\n",
    "    if i['subject'] == 'COSI':\n",
    "        studentNumbers += i['enrolled']\n",
    "print(studentNumbers)"
   ]
  },
  {
   "cell_type": "markdown",
   "metadata": {},
   "source": [
    "5c: what was the median size of a COSI course last year (counting only those courses with at least 10 students)"
   ]
  },
  {
   "cell_type": "code",
   "execution_count": null,
   "metadata": {},
   "outputs": [],
   "source": [
    "studentCount = 0\n",
    "courseCount = 0\n",
    "for i in courses:\n",
    "    if i['subject'] == 'COSI' and i['enrolled'] >= 10:\n",
    "        studentCount += i['enrolled']\n",
    "        courseCount += 1\n",
    "averageSize = studentCount/courseCount\n",
    "print(averageSize)"
   ]
  },
  {
   "cell_type": "code",
   "execution_count": null,
   "metadata": {},
   "outputs": [],
   "source": [
    "#5d.\n",
    "list=[]\n",
    "Count=0\n",
    "counter=0\n",
    "list1=[]\n",
    "checker=0\n",
    "max=(-1,\"\")\n",
    "for i in range(0,len(courses)):\n",
    "    Count=0\n",
    "    for p in range(len(list)):\n",
    "        if (courses[i]['subject']==list[p][1]):\n",
    "            Count=1\n",
    "    if (Count!=1):\n",
    "        counter=0\n",
    "        for l in range(i,len(courses)):\n",
    "            if (courses[i]['subject']==courses[l]['subject']):\n",
    "                counter+=courses[l]['enrolled']\n",
    "        list.append((counter,courses[i]['subject']))\n",
    "for m in range(10):\n",
    "    max=(-1,\"\")\n",
    "    for z in range(0,len(list)):\n",
    "        if (list[z][0]>max[0]):\n",
    "            checker=0\n",
    "            for em in range(len(list1)):\n",
    "                if (list[em][1]==list[z][1]):\n",
    "                    checker=1\n",
    "            if (checker!=1):\n",
    "                max=list[z]\n",
    "                list[z]=(-1,\"\")\n",
    "    list1.append(max[1])\n",
    "print(list1)"
   ]
  },
  {
   "cell_type": "code",
   "execution_count": null,
   "metadata": {},
   "outputs": [],
   "source": [
    "#5e.\n",
    "list=[]\n",
    "Count=0\n",
    "counter=0\n",
    "list1=[]\n",
    "checker=0\n",
    "max=(-1,\"\")\n",
    "for i in range(0,len(courses)):\n",
    "    Count=0\n",
    "    for p in range(len(list)):\n",
    "        if (courses[i]['subject']==list[p][1]):\n",
    "            Count=1\n",
    "    if (Count!=1):\n",
    "        counter=0\n",
    "        for l in range(i,len(courses)):\n",
    "            if (courses[i]['subject']==courses[l]['subject']):\n",
    "                counter+=1\n",
    "        list.append((counter,courses[i]['subject']))\n",
    "for m in range(10):\n",
    "    max=(-1,\"\")\n",
    "    for z in range(0,len(list)):\n",
    "        if (list[z][0]>max[0]):\n",
    "            checker=0\n",
    "            for em in range(len(list1)):\n",
    "                if (list[em][1]==list[z][1]):\n",
    "                    checker=1\n",
    "            if (checker!=1):\n",
    "                max=list[z]\n",
    "                list[z]=(-1,\"\")\n",
    "    list1.append(max[1])\n",
    "print(list1)"
   ]
  },
  {
   "cell_type": "code",
   "execution_count": null,
   "metadata": {},
   "outputs": [],
   "source": [
    "#5f.\n",
    "list=[]\n",
    "Count=0\n",
    "counter=0\n",
    "list1=[]\n",
    "checker=0\n",
    "listed=[]\n",
    "exe=0\n",
    "max=(-1,\"\")\n",
    "for i in range(0,len(courses)):\n",
    "    Count=0\n",
    "    for p in range(len(list)):\n",
    "        if (courses[i]['subject']==list[p][1]):\n",
    "            Count=1\n",
    "    if (Count!=1):\n",
    "        counter=0\n",
    "        listed=[]\n",
    "        for l in range(i,len(courses)):\n",
    "            if (courses[i]['subject']==courses[l]['subject']):\n",
    "                for pe in range(0,len(listed)):\n",
    "                    if (courses[i][instructors][2]==listed[pe]): \n",
    "                        exe=0\n",
    "                    else:\n",
    "                        listed.append(courses[i][instructors][2])\n",
    "                        counter+=1\n",
    "        list.append((counter,courses[i]['subject']))\n",
    "for m in range(10):\n",
    "    max=(-1,\"\")\n",
    "    for z in range(0,len(list)):\n",
    "        if (list[z][0]>max[0]):\n",
    "            checker=0\n",
    "            for em in range(len(list1)):\n",
    "                if (list[em][1]==list[z][1]):\n",
    "                    checker=1\n",
    "            if (checker!=1):\n",
    "                max=list[z]\n",
    "                list[z]=(-1,\"\")\n",
    "    list1.append(max[1])\n",
    "print(list1)"
   ]
  },
  {
   "cell_type": "markdown",
   "metadata": {},
   "source": [
    "Lucians 5i is immediately below this text: my program calculates the avg limit of students in classes at brandeis, null limits are not factored in"
   ]
  },
  {
   "cell_type": "code",
   "execution_count": 19,
   "metadata": {},
   "outputs": [
    {
     "name": "stdout",
     "output_type": "stream",
     "text": [
      "28.65944645006017\n"
     ]
    }
   ],
   "source": [
    "divider=0\n",
    "counter=0\n",
    "for i in range(0,len(courses)):\n",
    "    if courses[i]['limit']!=None:\n",
    "        counter+=courses[i]['limit']\n",
    "        divider+=1\n",
    "answer=counter/divider\n",
    "print(answer)\n",
    "        "
   ]
  },
  {
   "cell_type": "markdown",
   "metadata": {},
   "source": [
    "5i-Isaac: what percentage of courses are independent studies"
   ]
  },
  {
   "cell_type": "code",
   "execution_count": null,
   "metadata": {},
   "outputs": [],
   "source": [
    " numCourses = 0\n",
    "numIS = 0\n",
    "\n",
    "for i in courses:\n",
    "    numCourses += 1;\n",
    "    if i['independent_study'] == True:\n",
    "        numIS += 1\n",
    "        \n",
    "percentage = numIS/numCourses\n",
    "print(round(percentage, 2))\n"
   ]
  }
 ],
 "metadata": {
  "kernelspec": {
   "display_name": "Python 3",
   "language": "python",
   "name": "python3"
  },
  "language_info": {
   "codemirror_mode": {
    "name": "ipython",
    "version": 3
   },
   "file_extension": ".py",
   "mimetype": "text/x-python",
   "name": "python",
   "nbconvert_exporter": "python",
   "pygments_lexer": "ipython3",
   "version": "3.8.3"
  }
 },
 "nbformat": 4,
 "nbformat_minor": 5
}
