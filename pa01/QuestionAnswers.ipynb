{
 "cells": [
  {
   "cell_type": "markdown",
   "id": "a8993e86-6cba-472e-bef0-b356a7f6ffb3",
   "metadata": {
    "tags": []
   },
   "source": [
    "Part 5 of PA01"
   ]
  },
  {
   "cell_type": "code",
   "execution_count": null,
   "id": "f3a0df92-bb81-4718-ab6c-64db7520fe07",
   "metadata": {},
   "outputs": [],
   "source": [
    "import json"
   ]
  },
  {
   "cell_type": "code",
   "execution_count": null,
   "id": "e3a5b8f1-e683-4dab-a828-5298a98ced08",
   "metadata": {},
   "outputs": [],
   "source": [
    "with open(\"courses20-21.json\",\"r\",encoding='utf-8') as jsonfile:\n",
    "    courses = json.load(jsonfile)"
   ]
  },
  {
   "cell_type": "markdown",
   "id": "b6273e3d-5627-41f9-987d-dd8bfba37c08",
   "metadata": {},
   "source": [
    "5a: what is the total number of students taking COSI courses last year?"
   ]
  },
  {
   "cell_type": "code",
   "execution_count": null,
   "id": "17f34b3a-85d4-4c5c-827f-8267c631c843",
   "metadata": {
    "tags": []
   },
   "outputs": [],
   "source": [
    "#create set (because sets don't allow duplicates\n",
    "cosiFaculty = set(())\n",
    "for i in courses:\n",
    "    if i['subject'] == 'COSI':\n",
    "        cosiFaculty.add(i['instructor'][2])\n",
    "print(len(cosiFaculty))"
   ]
  },
  {
   "cell_type": "markdown",
   "id": "e8a41d2d-bd57-4864-a4a2-f0aeafce6ad6",
   "metadata": {},
   "source": [
    "5b: what is the total number of students taking COSI courses last year?"
   ]
  },
  {
   "cell_type": "code",
   "execution_count": null,
   "id": "37af3ec8-e3f5-4f13-8ee3-e23187245bb3",
   "metadata": {},
   "outputs": [],
   "source": [
    "studentNumbers = 0\n",
    "for i in courses:\n",
    "    if i['subject'] == 'COSI':\n",
    "        studentNumbers += i['enrolled']\n",
    "print(studentNumbers)"
   ]
  },
  {
   "cell_type": "markdown",
   "id": "fce8bc89-77c6-425f-ac20-052a511f7e38",
   "metadata": {},
   "source": [
    "5c: what was the median size of a COSI course last year (counting only those courses with at least 10 students)"
   ]
  },
  {
   "cell_type": "code",
   "execution_count": null,
   "id": "7e9922ae-2507-428f-8a22-0613dd3d6caf",
   "metadata": {},
   "outputs": [],
   "source": [
    "studentCount = 0\n",
    "courseCount = 0\n",
    "for i in courses:\n",
    "    if i['subject'] == 'COSI' and i['enrolled'] >= 10:\n",
    "        studentCount += i['enrolled']\n",
    "        courseCount += 1\n",
    "averageSize = studentCount/courseCount\n",
    "print(averageSize)"
   ]
  },
  {
   "cell_type": "code",
   "execution_count": null,
   "id": "4fa32ffc",
   "metadata": {},
   "outputs": [],
   "source": [
    "#5d.\n",
    "list=[]\n",
    "Count=0\n",
    "counter=0\n",
    "list1=[]\n",
    "checker=0\n",
    "max=(-1,\"\")\n",
    "for i in range(0,len(courses)):\n",
    "    Count=0\n",
    "    for p in range(len(list)):\n",
    "        if (courses[i]['subject']==list[p][1]):\n",
    "            Count=1\n",
    "    if (Count!=1):\n",
    "        counter=0\n",
    "        for l in range(i,len(courses)):\n",
    "            if (courses[i]['subject']==courses[l]['subject']):\n",
    "                counter+=courses[l]['enrolled']\n",
    "        list.append((counter,courses[i]['subject']))\n",
    "for m in range(10):\n",
    "    max=(-1,\"\")\n",
    "    for z in range(0,len(list)):\n",
    "        if (list[z][0]>max[0]):\n",
    "            checker=0\n",
    "            for em in range(len(list1)):\n",
    "                if (list[em][1]==list[z][1]):\n",
    "                    checker=1\n",
    "            if (checker!=1):\n",
    "                max=list[z]\n",
    "                list[z]=(-1,\"\")\n",
    "    list1.append(max[1])\n",
    "print(list1)"
   ]
  },
  {
   "cell_type": "markdown",
   "id": "98128129-7843-4cfb-b993-0600f8e763b1",
   "metadata": {},
   "source": [
    "5g: list the top 20 faculty in terms of number of students they taught\n"
   ]
  },
  {
   "cell_type": "code",
   "execution_count": null,
   "id": "ad3ee5fd-9343-49f0-8f3e-a9b8e82bb99c",
   "metadata": {},
   "outputs": [],
   "source": [
    "faculty = {}\n",
    "for i in courses:\n",
    "    if i['instructor'][2] in faculty:\n",
    "        faculty[i['instructor'][2]] += i['enrolled']\n",
    "    else:\n",
    "        faculty[i['instructor'][2]] = i['enrolled']\n",
    "#print(faculty)\n",
    "\n",
    "top20 = []\n",
    "for i in faculty:\n",
    "    if len(top20) < 20:\n",
    "        top20.append(i)\n",
    "    else:\n",
    "        for j in top20:            \n",
    "            if faculty[i] > faculty[j]:\n",
    "                top20.remove(j)\n",
    "                top20.append(i)\n",
    "                faculty[i] = 0\n",
    "\n",
    "print(top20)\n"
   ]
  },
  {
   "cell_type": "markdown",
   "id": "8598fb6a-2b23-4818-8cd5-ff21e3dc9353",
   "metadata": {},
   "source": [
    "5h: list the top 20 courses in terms of number of students taking that course (where you combine different sections and semesters, i.e. just use the subject and course number)\n"
   ]
  },
  {
   "cell_type": "code",
   "execution_count": null,
   "id": "e5454182-0b45-4172-a880-40bb145249f7",
   "metadata": {},
   "outputs": [],
   "source": [
    "for course in courses:\n",
    "        course['code']= tuple(course['code'])\n",
    "\n",
    "courseTotals = {}\n",
    "for i in courses:\n",
    "    if i['code'] in courseTotals:\n",
    "        courseTotals[i['code']] += i['enrolled']\n",
    "    else:\n",
    "        courseTotals[i['code']] = i['enrolled']\n",
    "\n",
    "top20c = []\n",
    "for i in courseTotals:\n",
    "    if len(top20c) < 20:\n",
    "        top20c.append(i)\n",
    "    else:\n",
    "        for j in top20c:            \n",
    "            if courseTotals[i] > courseTotals[j]:\n",
    "                top20c.remove(j)\n",
    "                top20c.append(i)\n",
    "                courseTotals[i] = 0\n",
    "\n",
    "print(top20c)\n"
   ]
  },
  {
   "cell_type": "markdown",
   "id": "519ac878-5798-4fd4-8bea-df60a43447ca",
   "metadata": {},
   "source": [
    "5i-Isaac: what percentage of courses are independent studies"
   ]
  },
  {
   "cell_type": "code",
   "execution_count": null,
   "id": "6ac02aa2-8e63-494c-b841-b3f3cfa92731",
   "metadata": {},
   "outputs": [],
   "source": [
    " numCourses = 0\n",
    "numIS = 0\n",
    "\n",
    "for i in courses:\n",
    "    numCourses += 1;\n",
    "    if i['independent_study'] == True:\n",
    "        numIS += 1\n",
    "        \n",
    "percentage = numIS/numCourses\n",
    "print(round(percentage, 2))\n"
   ]
  }
 ],
 "metadata": {
  "kernelspec": {
   "display_name": "Python 3 (ipykernel)",
   "language": "python",
   "name": "python3"
  },
  "language_info": {
   "codemirror_mode": {
    "name": "ipython",
    "version": 3
   },
   "file_extension": ".py",
   "mimetype": "text/x-python",
   "name": "python",
   "nbconvert_exporter": "python",
   "pygments_lexer": "ipython3",
   "version": "3.9.7"
  }
 },
 "nbformat": 4,
 "nbformat_minor": 5
}
