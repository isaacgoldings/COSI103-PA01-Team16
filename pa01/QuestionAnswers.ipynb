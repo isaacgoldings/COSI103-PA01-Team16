{
 "cells": [
  {
   "cell_type": "code",
   "execution_count": null,
   "id": "041e08a5-15d9-487c-a379-08bbe24fbb7b",
   "metadata": {
    "tags": []
   },
   "outputs": [],
   "source": [
    "# Part 5 of PA01"
   ]
  },
  {
   "cell_type": "code",
   "execution_count": null,
   "id": "f3a0df92-bb81-4718-ab6c-64db7520fe07",
   "metadata": {},
   "outputs": [],
   "source": [
    "import json"
   ]
  },
  {
   "cell_type": "code",
   "execution_count": null,
   "id": "e3a5b8f1-e683-4dab-a828-5298a98ced08",
   "metadata": {},
   "outputs": [],
   "source": [
    "with open(\"courses20-21.json\",\"r\",encoding='utf-8') as jsonfile:\n",
    "    courses = json.load(jsonfile)"
   ]
  },
  {
   "cell_type": "code",
   "execution_count": null,
   "id": "8cf715b0-b1f0-403d-8894-ce40d10fe167",
   "metadata": {},
   "outputs": [],
   "source": [
    "#5a."
   ]
  },
  {
   "cell_type": "code",
   "execution_count": null,
   "id": "17f34b3a-85d4-4c5c-827f-8267c631c843",
   "metadata": {
    "tags": []
   },
   "outputs": [],
   "source": [
    "#create set (because sets don't allow duplicates\n",
    "cosiFaculty = set(())\n",
    "for i in courses:\n",
    "    if i['subject'] == 'COSI':\n",
    "        cosiFaculty.add(i['instructor'][2])\n",
    "print(len(cosiFaculty))"
   ]
  },
  {
   "cell_type": "code",
   "execution_count": null,
   "id": "79fad488-716a-4419-8f85-b3639e217a9e",
   "metadata": {},
   "outputs": [],
   "source": [
    "#5b."
   ]
  }
 ],
 "metadata": {
  "kernelspec": {
   "display_name": "Python 3 (ipykernel)",
   "language": "python",
   "name": "python3"
  },
  "language_info": {
   "codemirror_mode": {
    "name": "ipython",
    "version": 3
   },
   "file_extension": ".py",
   "mimetype": "text/x-python",
   "name": "python",
   "nbconvert_exporter": "python",
   "pygments_lexer": "ipython3",
   "version": "3.9.7"
  }
 },
 "nbformat": 4,
 "nbformat_minor": 5
}
