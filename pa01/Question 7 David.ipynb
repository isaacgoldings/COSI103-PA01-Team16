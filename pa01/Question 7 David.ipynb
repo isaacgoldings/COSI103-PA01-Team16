{
 "cells": [
  {
   "cell_type": "code",
   "execution_count": null,
   "id": "2247519c-5552-4cb6-87c0-70a7a6cbf6b9",
   "metadata": {},
   "outputs": [],
   "source": [
    "import json\n",
    "with open(\"courses20-21.json\",\"r\",encoding='utf-8') as jsonfile:\n",
    "    courses = json.load(jsonfile)"
   ]
  },
  {
   "cell_type": "code",
   "execution_count": null,
   "id": "ca2f3528-d6b4-45cd-b694-9c7d26715385",
   "metadata": {},
   "outputs": [],
   "source": [
    "for course in courses:\n",
    "        course['instructor'] = tuple(course['instructor'])\n",
    "        course['coinstructors'] = tuple([tuple(f) for f in course['coinstructors']])\n",
    "        course['code']= tuple(course['code'])\n"
   ]
  },
  {
   "cell_type": "code",
   "execution_count": null,
   "id": "cbaace78-20cb-42bb-84cc-35e4aab67b4f",
   "metadata": {},
   "outputs": [],
   "source": [
    "courses[0]"
   ]
  },
  {
   "cell_type": "code",
   "execution_count": null,
   "id": "dd7aa853-9d8a-4010-8820-918d213a11f7",
   "metadata": {},
   "outputs": [],
   "source": [
    "def filterInstructor(filter):\n",
    "    titlesMatching = []\n",
    "    for course in courses:\n",
    "        if filter in course['instructor']:\n",
    "            titlesMatching.append(course['name'])\n",
    "    print(\"Titles matching = \",titlesMatching)"
   ]
  },
  {
   "cell_type": "code",
   "execution_count": null,
   "id": "113bc9b2-41c1-457c-853a-2aa260983547",
   "metadata": {},
   "outputs": [],
   "source": [
    "filterInstructor('Hickey')"
   ]
  },
  {
   "cell_type": "code",
   "execution_count": null,
   "id": "7de2a0f6-1128-44ac-a957-50c784571c25",
   "metadata": {},
   "outputs": [],
   "source": []
  }
 ],
 "metadata": {
  "kernelspec": {
   "display_name": "Python 3 (ipykernel)",
   "language": "python",
   "name": "python3"
  },
  "language_info": {
   "codemirror_mode": {
    "name": "ipython",
    "version": 3
   },
   "file_extension": ".py",
   "mimetype": "text/x-python",
   "name": "python",
   "nbconvert_exporter": "python",
   "pygments_lexer": "ipython3",
   "version": "3.9.7"
  }
 },
 "nbformat": 4,
 "nbformat_minor": 5
}
