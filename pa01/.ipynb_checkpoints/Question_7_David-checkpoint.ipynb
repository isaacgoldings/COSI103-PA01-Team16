{
 "cells": [
  {
   "cell_type": "markdown",
   "id": "d57fad42-6737-4059-9ea1-5afd17854849",
   "metadata": {},
   "source": [
    "This is for Question 7 B and C and E (David Pollack)\n",
    "\n",
    "(Not using this code, but was used to understand the implemntation of question 7)\n",
    "\n",
    "The following code just imports and cleans the data."
   ]
  },
  {
   "cell_type": "code",
   "execution_count": 1,
   "id": "9bd6a042-df87-4d13-86f8-e8a64eb8a7c1",
   "metadata": {},
   "outputs": [],
   "source": [
    "import json\n",
    "with open(\"courses20-21.json\",\"r\",encoding='utf-8') as jsonfile:\n",
    "    courses = json.load(jsonfile)\n",
    "\n",
    "for course in courses:\n",
    "        course['instructor'] = tuple(course['instructor'])\n",
    "        course['coinstructors'] = tuple([tuple(f) for f in course['coinstructors']])\n",
    "        course['code']= tuple(course['code'])\n"
   ]
  },
  {
   "cell_type": "markdown",
   "id": "bc99d369-3e7e-405e-82cf-781c99540147",
   "metadata": {},
   "source": [
    "Test for Course"
   ]
  },
  {
   "cell_type": "code",
   "execution_count": 2,
   "id": "9c26dbb7-41d7-42f5-a1d0-08bfd11f24c5",
   "metadata": {},
   "outputs": [
    {
     "name": "stdout",
     "output_type": "stream",
     "text": [
      "{'limit': None, 'times': [], 'enrolled': 0, 'details': \"Instructor's Signature Required.\\nSee Course Catalog for Special Notes.\", 'type': 'section', 'status_text': 'Open Consent Req.', 'section': '2', 'waiting': 0, 'instructor': ('Sharon', 'Feiman-Nemser', 'snemser@brandeis.edu'), 'coinstructors': (), 'code': ('HRNS', '329F'), 'subject': 'HRNS', 'coursenum': '329F', 'name': 'Readings in Jewish Professional Leadership', 'independent_study': True, 'term': '1203', 'description': 'Meets for one-half semester and yields half-course credit.\\n\\nSharon Feiman-Nemser'}\n"
     ]
    }
   ],
   "source": [
    "print(courses[0])"
   ]
  },
  {
   "cell_type": "markdown",
   "id": "4abf8f8c-ac9d-4847-9a76-a425fa5ac931",
   "metadata": {},
   "source": [
    "Filter Instructor (7B)"
   ]
  },
  {
   "cell_type": "code",
   "execution_count": 3,
   "id": "dd7aa853-9d8a-4010-8820-918d213a11f7",
   "metadata": {},
   "outputs": [],
   "source": [
    "def filterInstructor(filter):\n",
    "    instructorsMatching = []\n",
    "    for course in courses:\n",
    "        if filter in course['instructor']:\n",
    "            instructorsMatching.append(course['name'])\n",
    "    print(\"Instructors matching = \",instructorsMatching)"
   ]
  },
  {
   "cell_type": "markdown",
   "id": "7b051a44-dc02-4888-b64b-1824db58985c",
   "metadata": {},
   "source": [
    "Test for 7B"
   ]
  },
  {
   "cell_type": "code",
   "execution_count": 4,
   "id": "113bc9b2-41c1-457c-853a-2aa260983547",
   "metadata": {},
   "outputs": [
    {
     "name": "stdout",
     "output_type": "stream",
     "text": [
      "Instructors matching =  ['Readings', 'Independent Study', \"Master's Project\", 'Dissertation Research', \"Master's Research Internship\", 'Independent Study', 'Senior Research', 'Research Internship and Analysis', 'Introduction to Problem Solving in Python', 'Readings', 'Independent Study', \"Master's Research Internship\", \"Master's Project\", 'Dissertation Research', 'Senior Research', 'Independent Study', 'Research Internship and Analysis', 'Introduction to 3-D Animation', 'Introduction to Problem Solving in Python', 'Web Application Development', 'Mobile Application Development']\n"
     ]
    }
   ],
   "source": [
    "filterInstructor('Hickey')"
   ]
  },
  {
   "cell_type": "markdown",
   "id": "b103cfbe-77a0-4e9d-878c-416188aa011e",
   "metadata": {},
   "source": [
    "Filter Title (7C)"
   ]
  },
  {
   "cell_type": "code",
   "execution_count": 5,
   "id": "7de2a0f6-1128-44ac-a957-50c784571c25",
   "metadata": {},
   "outputs": [],
   "source": [
    "def filterTitle(filter):\n",
    "    titlesMatching = []\n",
    "    for course in courses:\n",
    "        if filter in course['name']:\n",
    "            titlesMatching.append(course['name'])\n",
    "    titlesMatchingNoRep = []\n",
    "    [titlesMatchingNoRep.append(x) for x in titlesMatching if x not in titlesMatchingNoRep]\n",
    "    print(\"Titles Matching = \", titlesMatchingNoRep)"
   ]
  },
  {
   "cell_type": "markdown",
   "id": "58127e4f-3567-431c-8d38-04cbb63ba184",
   "metadata": {},
   "source": [
    "Test for 7C"
   ]
  },
  {
   "cell_type": "code",
   "execution_count": 6,
   "id": "98d56b0d-79af-4c75-9e1b-7b35483a0b4c",
   "metadata": {},
   "outputs": [
    {
     "name": "stdout",
     "output_type": "stream",
     "text": [
      "Titles Matching =  ['Readings in Jewish Professional Leadership', 'Readings and Research in Anthropology', 'Readings', 'Readings in History', \"Master's Project Readings\", 'Advanced Readings', 'Readings in Politics', 'Advanced Readings and Research', 'Readings in Mathematics', 'Advanced Readings in Mathematics', 'Readings in Near Eastern and Judaic Studies', \"Readings for Master's Capstone\", 'Readings in Neuroscience', 'Readings in Sociological Literature', 'Readings in Molecular and Cell Biology', 'Readings in Modern Chinese', 'Readings in Contemporary Chinese Literature: Advanced Chinese Language II', 'Readings in Modern Japanese Literature', 'Individual Readings and Research in Anthropology', 'Readings in Biochemistry', 'Readings in Biology', 'Individual Readings and Research in Education', 'Readings in Physics', 'Readings in American Studies', 'Readings in Japanese', 'Readings in Linguistics', 'Readings in Psychological Literature', 'Readings in Philosophy', 'Individual Readings and Research in Sociology', 'Readings in Science Education', 'Readings in the Hebrew Bible', 'Readings and Research in Global Studies', 'Renaissance, Revolution, Redemption: Readings in Early Zionist Thought', 'Readings in Contemporary Chinese Literature: Advanced Chinese Language', 'Queer Readings: Before the Binary']\n"
     ]
    }
   ],
   "source": [
    "filterTitle(\"Readings\")"
   ]
  },
  {
   "cell_type": "markdown",
   "id": "c40f885c",
   "metadata": {},
   "source": [
    "Making 7E\n"
   ]
  },
  {
   "cell_type": "code",
   "execution_count": 7,
   "id": "f8fd929c-c872-47ad-9df0-dd1b8f0585a4",
   "metadata": {},
   "outputs": [],
   "source": [
    "def filterWaitingListNone():\n",
    "    waitingZero = []\n",
    "    for course in courses: \n",
    "        if 'waiting' in course == 0:\n",
    "            waitingZero.append(course['name'])\n",
    "    print (waitingZero)"
   ]
  },
  {
   "cell_type": "markdown",
   "id": "d29470af",
   "metadata": {},
   "source": [
    "Testing 7E\n"
   ]
  },
  {
   "cell_type": "code",
   "execution_count": null,
   "id": "552ced26-772a-4809-9bf5-fab9415723d8",
   "metadata": {},
   "outputs": [],
   "source": [
    "filterWaitingListNone()"
   ]
  }
 ],
 "metadata": {
  "kernelspec": {
   "display_name": "Python 3 (ipykernel)",
   "language": "python",
   "name": "python3"
  },
  "language_info": {
   "codemirror_mode": {
    "name": "ipython",
    "version": 3
   },
   "file_extension": ".py",
   "mimetype": "text/x-python",
   "name": "python",
   "nbconvert_exporter": "python",
   "pygments_lexer": "ipython3",
   "version": "3.9.7"
  }
 },
 "nbformat": 4,
 "nbformat_minor": 5
}
