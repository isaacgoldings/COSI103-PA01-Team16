{
 "cells": [
  {
   "cell_type": "code",
   "execution_count": null,
   "id": "8eeb8b5e-4867-4feb-9f5a-78d1cb22be2f",
   "metadata": {},
   "outputs": [],
   "source": [
    "import json\n",
    "with open(\"courses20-21.json\",\"r\",encoding='utf-8') as jsonfile:\n",
    "    courses = json.load(jsonfile)"
   ]
  },
  {
   "cell_type": "code",
   "execution_count": null,
   "id": "aad760d0-1cfe-4641-b140-68cbf17383a7",
   "metadata": {},
   "outputs": [],
   "source": [
    "def filterTerm(filter):\n",
    "    matchingTerm = []\n",
    "    for course in courses:\n",
    "        if filter in course['term']:\n",
    "            matchingTerm.append(course['name'])\n",
    "    print(\"Titles matching = \",matchingTerm)\n",
    "    \n",
    "filterTerm('1203')"
   ]
  }
 ],
 "metadata": {
  "kernelspec": {
   "display_name": "Python 3 (ipykernel)",
   "language": "python",
   "name": "python3"
  },
  "language_info": {
   "codemirror_mode": {
    "name": "ipython",
    "version": 3
   },
   "file_extension": ".py",
   "mimetype": "text/x-python",
   "name": "python",
   "nbconvert_exporter": "python",
   "pygments_lexer": "ipython3",
   "version": "3.9.7"
  }
 },
 "nbformat": 4,
 "nbformat_minor": 5
}
