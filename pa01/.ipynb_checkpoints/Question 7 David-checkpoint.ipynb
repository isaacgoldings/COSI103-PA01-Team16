{
 "cells": [
  {
   "cell_type": "markdown",
   "id": "d57fad42-6737-4059-9ea1-5afd17854849",
   "metadata": {},
   "source": [
    "This is for Question 7 B and C (David Pollack)\n",
    "\n",
    "The following code just imports and cleans the data."
   ]
  },
  {
   "cell_type": "code",
   "execution_count": null,
   "id": "9bd6a042-df87-4d13-86f8-e8a64eb8a7c1",
   "metadata": {},
   "outputs": [],
   "source": [
    "import json\n",
    "with open(\"courses20-21.json\",\"r\",encoding='utf-8') as jsonfile:\n",
    "    courses = json.load(jsonfile)\n",
    "\n",
    "for course in courses:\n",
    "        course['instructor'] = tuple(course['instructor'])\n",
    "        course['coinstructors'] = tuple([tuple(f) for f in course['coinstructors']])\n",
    "        course['code']= tuple(course['code'])\n"
   ]
  },
  {
   "cell_type": "markdown",
   "id": "bc99d369-3e7e-405e-82cf-781c99540147",
   "metadata": {},
   "source": [
    "Test for Course"
   ]
  },
  {
   "cell_type": "code",
   "execution_count": null,
   "id": "9c26dbb7-41d7-42f5-a1d0-08bfd11f24c5",
   "metadata": {},
   "outputs": [],
   "source": [
    "print(courses[0])"
   ]
  },
  {
   "cell_type": "markdown",
   "id": "4abf8f8c-ac9d-4847-9a76-a425fa5ac931",
   "metadata": {},
   "source": [
    "Filter Instructor (7B)"
   ]
  },
  {
   "cell_type": "code",
   "execution_count": null,
   "id": "dd7aa853-9d8a-4010-8820-918d213a11f7",
   "metadata": {},
   "outputs": [],
   "source": [
    "def filterInstructor(filter):\n",
    "    instructorsMatching = []\n",
    "    for course in courses:\n",
    "        if filter in course['instructor']:\n",
    "            instructorsMatching.append(course['name'])\n",
    "    print(\"Instructors matching = \",instructorsMatching)"
   ]
  },
  {
   "cell_type": "markdown",
   "id": "7b051a44-dc02-4888-b64b-1824db58985c",
   "metadata": {},
   "source": [
    "Test for 7B"
   ]
  },
  {
   "cell_type": "code",
   "execution_count": null,
   "id": "113bc9b2-41c1-457c-853a-2aa260983547",
   "metadata": {},
   "outputs": [],
   "source": [
    "filterInstructor('Hickey')"
   ]
  },
  {
   "cell_type": "code",
   "execution_count": null,
   "id": "b103cfbe-77a0-4e9d-878c-416188aa011e",
   "metadata": {},
   "outputs": [],
   "source": [
    "Filter Title (7C)"
   ]
  },
  {
   "cell_type": "code",
   "execution_count": null,
   "id": "7de2a0f6-1128-44ac-a957-50c784571c25",
   "metadata": {},
   "outputs": [],
   "source": [
    "def filterTitle(filter):\n",
    "    titlesMatching = []\n",
    "    for course in courses:\n",
    "        if filter in course['name']:\n",
    "            titlesMatching.append(course['name'])\n",
    "    titlesMatchingNoRep = []\n",
    "    [titlesMatchingNoRep.append(x) for x in titlesMatching if x not in titlesMatchingNoRep]\n",
    "    print(\"Titles Matching = \", titlesMatchingNoRep)"
   ]
  },
  {
   "cell_type": "markdown",
   "id": "58127e4f-3567-431c-8d38-04cbb63ba184",
   "metadata": {},
   "source": [
    "Test for 7C"
   ]
  },
  {
   "cell_type": "code",
   "execution_count": null,
   "id": "98d56b0d-79af-4c75-9e1b-7b35483a0b4c",
   "metadata": {},
   "outputs": [],
   "source": [
    "filterTitle(\"Readings\")"
   ]
  },
  {
   "cell_type": "code",
   "execution_count": null,
   "id": "f8fd929c-c872-47ad-9df0-dd1b8f0585a4",
   "metadata": {},
   "outputs": [],
   "source": [
    "def filterWaitingListNone():\n",
    "    waitingZero = []\n",
    "    for course in courses: \n",
    "        if 'waiting' in course == 0:\n",
    "            waitingZero.append(course['name'])\n",
    "    print (waitingZero)"
   ]
  },
  {
   "cell_type": "code",
   "execution_count": null,
   "id": "552ced26-772a-4809-9bf5-fab9415723d8",
   "metadata": {},
   "outputs": [],
   "source": [
    "filterWaitingListNone()"
   ]
  },
  {
   "cell_type": "code",
   "execution_count": null,
   "id": "cf5bc026-fa96-4687-8cad-de782f9a6990",
   "metadata": {},
   "outputs": [],
   "source": []
  }
 ],
 "metadata": {
  "kernelspec": {
   "display_name": "Python 3 (ipykernel)",
   "language": "python",
   "name": "python3"
  },
  "language_info": {
   "codemirror_mode": {
    "name": "ipython",
    "version": 3
   },
   "file_extension": ".py",
   "mimetype": "text/x-python",
   "name": "python",
   "nbconvert_exporter": "python",
   "pygments_lexer": "ipython3",
   "version": "3.9.7"
  }
 },
 "nbformat": 4,
 "nbformat_minor": 5
}
