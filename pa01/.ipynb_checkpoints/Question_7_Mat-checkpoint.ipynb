{
 "cells": [
  {
   "cell_type": "code",
   "execution_count": null,
   "id": "230397dc-ce14-44fd-9f99-3d8c77569fd1",
   "metadata": {},
   "outputs": [],
   "source": [
    "import json\n",
    "with open(\"courses20-21.json\",\"r\",encoding='utf-8') as jsonfile:\n",
    "    courses = json.load(jsonfile)"
   ]
  },
  {
   "cell_type": "code",
   "execution_count": null,
   "id": "384a86dc-e802-46ff-8c9c-962e1f12b84e",
   "metadata": {},
   "outputs": [],
   "source": [
    "for course in courses:\n",
    "        course['instructor'] = tuple(course['instructor'])\n",
    "        course['coinstructors'] = tuple([tuple(f) for f in course['coinstructors']])\n",
    "        course['code']= tuple(course['code'])"
   ]
  },
  {
   "cell_type": "code",
   "execution_count": null,
   "id": "3e3ae636-a13f-4f7f-b698-bb6e1b05df9c",
   "metadata": {},
   "outputs": [],
   "source": [
    "courses[1]"
   ]
  },
  {
   "cell_type": "code",
   "execution_count": null,
   "id": "7f326469-1e43-423b-95e7-f4a6363f32e0",
   "metadata": {},
   "outputs": [],
   "source": [
    "def filterByAvailability(filter):\n",
    "    matchingClasses = []\n",
    "    for course in courses:\n",
    "        if filter in course['status_text']:\n",
    "            matchingClasses.append(course['name'])\n",
    "    print(\"Matching Classes: \", matchingClasses)"
   ]
  },
  {
   "cell_type": "code",
   "execution_count": null,
   "id": "c2e5f824-8af1-4d25-8614-5160660052cb",
   "metadata": {},
   "outputs": [],
   "source": [
    "filterByAvailability(\"Closed\")"
   ]
  }
 ],
 "metadata": {
  "kernelspec": {
   "display_name": "Python 3",
   "language": "python",
   "name": "python3"
  },
  "language_info": {
   "codemirror_mode": {
    "name": "ipython",
    "version": 3
   },
   "file_extension": ".py",
   "mimetype": "text/x-python",
   "name": "python",
   "nbconvert_exporter": "python",
   "pygments_lexer": "ipython3",
   "version": "3.8.8"
  }
 },
 "nbformat": 4,
 "nbformat_minor": 5
}
