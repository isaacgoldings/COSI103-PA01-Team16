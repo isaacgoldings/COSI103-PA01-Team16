{
 "cells": [
  {
   "cell_type": "code",
   "execution_count": 10,
   "id": "2247519c-5552-4cb6-87c0-70a7a6cbf6b9",
   "metadata": {},
   "outputs": [
    {
     "name": "stdout",
     "output_type": "stream",
     "text": [
      "5\n",
      "there are 7813 courses in the dataset\n",
      "here is the data for course 1246\n"
     ]
    },
    {
     "data": {
      "text/plain": [
       "{'limit': None,\n",
       " 'times': [],\n",
       " 'enrolled': 0,\n",
       " 'details': \"Instructor's Signature Required.\\nSee Course Catalog for Special Notes.\",\n",
       " 'type': 'section',\n",
       " 'status_text': 'Open Consent Req.',\n",
       " 'section': '2',\n",
       " 'waiting': 0,\n",
       " 'instructor': ['Sharon', 'Feiman-Nemser', 'snemser@brandeis.edu'],\n",
       " 'coinstructors': [],\n",
       " 'code': ['HRNS', '329F'],\n",
       " 'subject': 'HRNS',\n",
       " 'coursenum': '329F',\n",
       " 'name': 'Readings in Jewish Professional Leadership',\n",
       " 'independent_study': True,\n",
       " 'term': '1203',\n",
       " 'description': 'Meets for one-half semester and yields half-course credit.\\n\\nSharon Feiman-Nemser'}"
      ]
     },
     "execution_count": 10,
     "metadata": {},
     "output_type": "execute_result"
    }
   ],
   "source": [
    "import json\n",
    "with open(\"courses20-21.json\",\"r\",encoding='utf-8') as jsonfile:\n",
    "    courses = json.load(jsonfile)\n",
    "x = 5\n",
    "print(x)\n",
    "print('there are',len(courses),'courses in the dataset')\n",
    "print('here is the data for course 1246')\n",
    "courses[1246]\n",
    "# print(courses[:10])\n",
    "courses[0]"
   ]
  },
  {
   "cell_type": "code",
   "execution_count": 11,
   "id": "e92387bd-a879-4f0b-9ed4-484ff04e30dd",
   "metadata": {},
   "outputs": [
    {
     "name": "stdout",
     "output_type": "stream",
     "text": [
      "notice that the instructor and code are tuples now\n"
     ]
    },
    {
     "data": {
      "text/plain": [
       "{'limit': 28,\n",
       " 'times': [{'start': 1080, 'end': 1170, 'days': ['w', 'm']}],\n",
       " 'enrolled': 4,\n",
       " 'details': 'Instruction for this course will be offered remotely. Meeting times for this course are listed in the schedule of classes (in ET).',\n",
       " 'type': 'section',\n",
       " 'status_text': 'Open',\n",
       " 'section': '1',\n",
       " 'waiting': 0,\n",
       " 'instructor': ('An', 'Huang', 'anhuang@brandeis.edu'),\n",
       " 'coinstructors': (),\n",
       " 'code': ('MATH', '223A'),\n",
       " 'subject': 'MATH',\n",
       " 'coursenum': '223A',\n",
       " 'name': 'Lie Algebras: Representation Theory',\n",
       " 'independent_study': False,\n",
       " 'term': '1203',\n",
       " 'description': \"Theorems of Engel and Lie. Semisimple Lie algebras, Cartan's criterion. Universal enveloping algebras, PBW theorem, Serre's construction. Representation theory. Other topics as time permits. Usually offered every second year.\\nAn Huang\"}"
      ]
     },
     "execution_count": 11,
     "metadata": {},
     "output_type": "execute_result"
    }
   ],
   "source": [
    "for course in courses:\n",
    "        course['instructor'] = tuple(course['instructor'])\n",
    "        course['coinstructors'] = tuple([tuple(f) for f in course['coinstructors']])\n",
    "        course['code']= tuple(course['code'])\n",
    "print('notice that the instructor and code are tuples now')\n",
    "courses[1246]"
   ]
  },
  {
   "cell_type": "code",
   "execution_count": 42,
   "id": "f03a98d3-123e-4240-bdf9-5c2597c4d630",
   "metadata": {},
   "outputs": [
    {
     "name": "stdout",
     "output_type": "stream",
     "text": [
      "Subjects Matching: ['T.A. Practicum', 'Research', 'Research', 'Research', 'Research', 'Research', 'Research', 'Research', 'Research', 'Research', 'Readings in Mathematics', 'Readings in Mathematics', 'Readings in Mathematics', 'Readings in Mathematics', 'Readings in Mathematics', 'Readings in Mathematics', 'Readings in Mathematics', 'Readings in Mathematics', 'Readings in Mathematics', 'Advanced Readings in Mathematics', 'Advanced Readings in Mathematics', 'Advanced Readings in Mathematics', 'Advanced Readings in Mathematics', 'Advanced Readings in Mathematics', 'Advanced Readings in Mathematics', 'Advanced Readings in Mathematics', 'Advanced Readings in Mathematics', 'Advanced Readings in Mathematics', 'Readings in Mathematics', 'Advanced Readings in Mathematics', 'Research', 'Readings in Mathematics', 'Readings in Mathematics', 'Advanced Readings in Mathematics', 'Research', 'Readings in Mathematics', 'Topology III: Vector Bundles and Applications', 'Research', 'Readings in Mathematics', 'Advanced Readings in Mathematics', 'Advanced Readings in Mathematics', 'Advanced Readings in Mathematics', 'Advanced Readings in Mathematics', 'Readings in Mathematics', 'Research', 'Research', 'Research', 'Readings in Mathematics', 'Readings in Mathematics', 'Advanced Readings in Mathematics', 'Advanced Readings in Mathematics', 'Algebraic Geometry I', 'Introduction to Algebraic Number Theory', 'Topics in Differential Geometry and Analysis I', 'Lie Algebras: Representation Theory', 'Math Internship', 'Mathematics Seminar Class', 'Precalculus Mathematics', 'Techniques of Calculus (a)', 'Techniques of Calculus (a)', 'Techniques of Calculus (a)', 'Techniques of Calculus (a)', 'Techniques of Calculus (b)', 'Techniques of Calculus (b)', 'Applied Linear Algebra', 'Mathematical Statistics', 'Independent Research', 'Independent Research', 'Independent Research', 'Independent Research', 'Independent Research', 'Independent Research', 'Independent Research', 'Introduction to Proofs', 'Independent Research', 'Introduction to Probability and Statistics', 'Complex Analysis', 'Topology II', 'Independent Research', 'Independent Research', 'Multi-variable Calculus', 'Explorations in Math: A Course for Educators', 'Senior Research', 'Senior Research', 'Senior Research', 'Senior Research', 'Senior Research', 'Senior Research', 'Senior Research', 'Senior Research', 'Senior Research', 'Senior Research', 'Senior Research', 'Senior Research', 'Senior Research', 'Independent Research', 'Independent Research', 'Independent Research', 'Senior Research', 'Independent Research', 'Senior Research', 'Independent Research', 'Techniques of Calculus (b)', 'Algebra II', 'Applied Linear Algebra Practicum', 'Introduction to Complex Analysis', 'Introduction to Proofs', 'Applied Linear Algebra Practicum', 'Introduction to Rings and Fields', 'Introduction to Applied Mathematics', 'Introduction to Algebra, Part II', 'Introduction to Differential Geometry', 'Mathematics for Natural Sciences', 'Introduction to Stochastic Processes and Models', 'Differential Geometry', 'Honors Linear Algebra and Multi-variable Calculus, Part II', 'Techniques of Calculus (a)', 'Applied Linear Algebra', 'Research', 'Research', 'Research', 'Research', 'Research', 'Research', 'Research', 'Research', 'Research', 'Research', 'Second-Year Seminar', 'Research', 'Research', 'Research', 'Research', 'Research', 'Topics in Number Theory', 'Math Internship', 'Specialized Mathematics Seminar Class', 'Readings in Mathematics', 'Readings in Mathematics', 'Readings in Mathematics', 'Readings in Mathematics', 'Readings in Mathematics', 'Readings in Mathematics', 'Readings in Mathematics', 'Readings in Mathematics', 'Readings in Mathematics', 'Readings in Mathematics', 'Readings in Mathematics', 'Readings in Mathematics', 'Readings in Mathematics', 'Readings in Mathematics', 'Readings in Mathematics', 'Readings in Mathematics', 'Readings in Mathematics', 'Readings in Mathematics', 'Readings in Mathematics', 'Readings in Mathematics', 'Mathematics Seminar Class', \"Master's Thesis\", 'Techniques of Calculus (a)', 'Techniques of Calculus (a)', 'Techniques of Calculus (a)', 'Techniques of Calculus (a)', 'Applied Linear Algebra', 'Multi-variable Calculus', 'Honors Linear Algebra and Multi-variable Calculus, Part I', 'Probability', 'Introduction to Proofs', 'Techniques of Calculus (b)', 'Techniques of Calculus (b)', 'Techniques of Calculus (b)', 'Techniques of Calculus (b)', 'Advanced Calculus and Fourier Analysis', 'Precalculus Mathematics', 'Introduction to Probability and Statistics', 'Algebra I', 'Real Analysis', 'Introduction to Real Analysis, Part I', 'Geometry of Manifolds', 'Topology I', 'Independent Research', 'Independent Research', 'Independent Research', 'Independent Research', 'Independent Research', 'Independent Research', 'Independent Research', 'Independent Research', 'Independent Research', 'Independent Research', 'Applied Linear Algebra', 'Introduction to Proofs', 'Differential Equations', 'Senior Research', 'Senior Research', 'Senior Research', 'Senior Research', 'Senior Research', 'Senior Research', 'Senior Research', 'Senior Research', 'Senior Research', 'Senior Research', 'Senior Research', 'Senior Research', 'Senior Research', 'Independent Research', 'Independent Research', 'Independent Research', 'Independent Research', 'Senior Research', 'Senior Research', 'Independent Research', 'Introduction to Algebra, Part I', 'Introduction to Number Theory', 'Optimization', 'Partial Differential Equations', 'Topics in Combinatorics', 'Techniques of Calculus (a)', 'Techniques of Calculus (a)', 'Techniques of Calculus (b)', 'Probability', 'Differential Equations', 'Techniques of Calculus (b)', 'Multi-variable Calculus', 'Techniques of Calculus (a)', 'Applied Linear Algebra', 'Introduction to Probability and Statistics']\n",
      "Subjects Matching: ['T.A. Practicum', 'Research', 'Research', 'Research', 'Research', 'Research', 'Research', 'Research', 'Research', 'Research', 'Readings in Mathematics', 'Readings in Mathematics', 'Readings in Mathematics', 'Readings in Mathematics', 'Readings in Mathematics', 'Readings in Mathematics', 'Readings in Mathematics', 'Readings in Mathematics', 'Readings in Mathematics', 'Advanced Readings in Mathematics', 'Advanced Readings in Mathematics', 'Advanced Readings in Mathematics', 'Advanced Readings in Mathematics', 'Advanced Readings in Mathematics', 'Advanced Readings in Mathematics', 'Advanced Readings in Mathematics', 'Advanced Readings in Mathematics', 'Advanced Readings in Mathematics', 'Readings in Mathematics', 'Advanced Readings in Mathematics', 'Research', 'Readings in Mathematics', 'Readings in Mathematics', 'Advanced Readings in Mathematics', 'Research', 'Readings in Mathematics', 'Topology III: Vector Bundles and Applications', 'Research', 'Readings in Mathematics', 'Advanced Readings in Mathematics', 'Advanced Readings in Mathematics', 'Advanced Readings in Mathematics', 'Advanced Readings in Mathematics', 'Readings in Mathematics', 'Research', 'Research', 'Research', 'Readings in Mathematics', 'Readings in Mathematics', 'Advanced Readings in Mathematics', 'Advanced Readings in Mathematics', 'Algebraic Geometry I', 'Introduction to Algebraic Number Theory', 'Topics in Differential Geometry and Analysis I', 'Lie Algebras: Representation Theory', 'Math Internship', 'Mathematics Seminar Class', 'Precalculus Mathematics', 'Techniques of Calculus (a)', 'Techniques of Calculus (a)', 'Techniques of Calculus (a)', 'Techniques of Calculus (a)', 'Techniques of Calculus (b)', 'Techniques of Calculus (b)', 'Applied Linear Algebra', 'Mathematical Statistics', 'Independent Research', 'Independent Research', 'Independent Research', 'Independent Research', 'Independent Research', 'Independent Research', 'Independent Research', 'Introduction to Proofs', 'Independent Research', 'Introduction to Probability and Statistics', 'Complex Analysis', 'Topology II', 'Independent Research', 'Independent Research', 'Multi-variable Calculus', 'Explorations in Math: A Course for Educators', 'Senior Research', 'Senior Research', 'Senior Research', 'Senior Research', 'Senior Research', 'Senior Research', 'Senior Research', 'Senior Research', 'Senior Research', 'Senior Research', 'Senior Research', 'Senior Research', 'Senior Research', 'Independent Research', 'Independent Research', 'Independent Research', 'Senior Research', 'Independent Research', 'Senior Research', 'Independent Research', 'Techniques of Calculus (b)', 'Algebra II', 'Applied Linear Algebra Practicum', 'Introduction to Complex Analysis', 'Introduction to Proofs', 'Applied Linear Algebra Practicum', 'Introduction to Rings and Fields', 'Introduction to Applied Mathematics', 'Introduction to Algebra, Part II', 'Introduction to Differential Geometry', 'Mathematics for Natural Sciences', 'Introduction to Stochastic Processes and Models', 'Differential Geometry', 'Honors Linear Algebra and Multi-variable Calculus, Part II', 'Techniques of Calculus (a)', 'Applied Linear Algebra', 'Research', 'Research', 'Research', 'Research', 'Research', 'Research', 'Research', 'Research', 'Research', 'Research', 'Second-Year Seminar', 'Research', 'Research', 'Research', 'Research', 'Research', 'Topics in Number Theory', 'Math Internship', 'Specialized Mathematics Seminar Class', 'Readings in Mathematics', 'Readings in Mathematics', 'Readings in Mathematics', 'Readings in Mathematics', 'Readings in Mathematics', 'Readings in Mathematics', 'Readings in Mathematics', 'Readings in Mathematics', 'Readings in Mathematics', 'Readings in Mathematics', 'Readings in Mathematics', 'Readings in Mathematics', 'Readings in Mathematics', 'Readings in Mathematics', 'Readings in Mathematics', 'Readings in Mathematics', 'Readings in Mathematics', 'Readings in Mathematics', 'Readings in Mathematics', 'Readings in Mathematics', 'Mathematics Seminar Class', \"Master's Thesis\", 'Techniques of Calculus (a)', 'Techniques of Calculus (a)', 'Techniques of Calculus (a)', 'Techniques of Calculus (a)', 'Applied Linear Algebra', 'Multi-variable Calculus', 'Honors Linear Algebra and Multi-variable Calculus, Part I', 'Probability', 'Introduction to Proofs', 'Techniques of Calculus (b)', 'Techniques of Calculus (b)', 'Techniques of Calculus (b)', 'Techniques of Calculus (b)', 'Advanced Calculus and Fourier Analysis', 'Precalculus Mathematics', 'Introduction to Probability and Statistics', 'Algebra I', 'Real Analysis', 'Introduction to Real Analysis, Part I', 'Geometry of Manifolds', 'Topology I', 'Independent Research', 'Independent Research', 'Independent Research', 'Independent Research', 'Independent Research', 'Independent Research', 'Independent Research', 'Independent Research', 'Independent Research', 'Independent Research', 'Applied Linear Algebra', 'Introduction to Proofs', 'Differential Equations', 'Senior Research', 'Senior Research', 'Senior Research', 'Senior Research', 'Senior Research', 'Senior Research', 'Senior Research', 'Senior Research', 'Senior Research', 'Senior Research', 'Senior Research', 'Senior Research', 'Senior Research', 'Independent Research', 'Independent Research', 'Independent Research', 'Independent Research', 'Senior Research', 'Senior Research', 'Independent Research', 'Introduction to Algebra, Part I', 'Introduction to Number Theory', 'Optimization', 'Partial Differential Equations', 'Topics in Combinatorics', 'Techniques of Calculus (a)', 'Techniques of Calculus (a)', 'Techniques of Calculus (b)', 'Probability', 'Differential Equations', 'Techniques of Calculus (b)', 'Multi-variable Calculus', 'Techniques of Calculus (a)', 'Applied Linear Algebra', 'Introduction to Probability and Statistics']\n"
     ]
    }
   ],
   "source": [
    "import json\n",
    "\n",
    "with open(\"courses20-21.json\",\"r\",encoding='utf-8') as jsonfile:\n",
    "    courses = json.load(jsonfile)\n",
    "\n",
    "#Filter matching subjects\n",
    "def filterSubject(filter):\n",
    "    classesMatching = []\n",
    "    for course in courses:\n",
    "        if filter in course['code']:\n",
    "            classesMatching.append(course['name'])\n",
    "    print(\"Subjects Matching:\",classesMatching)\n",
    "            \n",
    "filterSubject('MATH')\n",
    "\n",
    "# #Filter matching subjects\n",
    "# def filterSubject(filter):\n",
    "#     classesMatching = []\n",
    "#     for course in courses:\n",
    "#         if filter in course['subject']:\n",
    "#             classesMatching.append(course['name'])\n",
    "#     print(\"Subjects Matching:\",classesMatching)\n",
    "            \n",
    "# filterSubject('MATH')\n",
    "\n",
    "\n",
    "\n",
    "\n",
    "\n",
    "\n",
    "class Schedule():\n",
    "    '''\n",
    "    Schedule represent a list of Brandeis classes with operations for filtering\n",
    "    '''\n",
    "    def __init__(self,courses=()):\n",
    "        ''' courses is a tuple of the courses being offered '''\n",
    "        self.courses = courses\n",
    "\n",
    "    def load_courses(self):\n",
    "        ''' load_courses reads the course data from the courses.json file'''\n",
    "        print('getting archived regdata from file')\n",
    "        with open(\"courses20-21.json\",\"r\",encoding='utf-8') as jsonfile:\n",
    "            courses = json.load(jsonfile)\n",
    "        for course in courses:\n",
    "            course['instructor'] = tuple(course['instructor'])\n",
    "            course['coinstructors'] = [tuple(f) for f in course['coinstructors']]\n",
    "        self.courses = tuple(courses)  # making it a tuple means it is immutable\n",
    "\n",
    "    def lastname(self,names):\n",
    "        ''' lastname returns the courses by a particular instructor last name'''\n",
    "        return Schedule([course for course in self.courses if course['instructor'][1] in names])\n",
    "\n",
    "    def email(self,emails):\n",
    "        ''' email returns the courses by a particular instructor email'''\n",
    "        return Schedule([course for course in self.courses if course['instructor'][2] in emails])\n",
    "\n",
    "    def term(self,terms):\n",
    "        ''' email returns the courses in a list of term'''\n",
    "        return Schedule([course for course in self.courses if course['term'] in terms])\n",
    "\n",
    "    def enrolled(self,vals):\n",
    "        ''' enrolled filters for enrollment numbers in the list of vals'''\n",
    "        return Schedule([course for course in self.courses if course['enrolled'] in vals])\n",
    "\n",
    "    def subject(self,subjects):\n",
    "        ''' subject filters the courses by subject '''\n",
    "        return Schedule([course for course in self.courses if course['subject'] in subjects])\n",
    "\n",
    "    def sort(self,field):\n",
    "        if field=='subject':\n",
    "            return Schedule(sorted(self.courses, key= lambda course: course['subject']))\n",
    "        else:\n",
    "            print(\"can't sort by \"+str(field)+\" yet\")\n",
    "            return self\n",
    "        \n",
    "    def title(self,phrase):\n",
    "        \n",
    "        return Schedule([course for course in self.courses if course['name'] in phrase])\n",
    "    \n",
    "    def description(self,phrase):\n",
    "        \n",
    "        return Schedule([course for course in self.courses if course['description'] in phrase])\n",
    "    \n",
    "    def enroll_limit(self):\n",
    "        \n",
    "        return Schedule([course for course in self.courses if course['limit'] == null])\n",
    "        \n",
    "    \n",
    "\n",
    " \n"
   ]
  },
  {
   "cell_type": "code",
   "execution_count": 30,
   "id": "83dc2d7b-26cd-4261-9c01-57a612cc61ab",
   "metadata": {},
   "outputs": [
    {
     "name": "stdout",
     "output_type": "stream",
     "text": [
      "<__main__.Schedule object at 0x122648ca0>\n"
     ]
    },
    {
     "ename": "TypeError",
     "evalue": "the JSON object must be str, bytes or bytearray, not Schedule",
     "output_type": "error",
     "traceback": [
      "\u001b[0;31m---------------------------------------------------------------------------\u001b[0m",
      "\u001b[0;31mTypeError\u001b[0m                                 Traceback (most recent call last)",
      "\u001b[0;32m/var/folders/st/mx1gl7h55xz9vx5kxnql9b540000gn/T/ipykernel_22817/2700507551.py\u001b[0m in \u001b[0;36m<module>\u001b[0;34m\u001b[0m\n\u001b[1;32m      2\u001b[0m \u001b[0mprint\u001b[0m\u001b[0;34m(\u001b[0m\u001b[0mbrandeisCourses\u001b[0m\u001b[0;34m)\u001b[0m\u001b[0;34m\u001b[0m\u001b[0;34m\u001b[0m\u001b[0m\n\u001b[1;32m      3\u001b[0m \u001b[0;34m\u001b[0m\u001b[0m\n\u001b[0;32m----> 4\u001b[0;31m \u001b[0my\u001b[0m \u001b[0;34m=\u001b[0m \u001b[0mjson\u001b[0m\u001b[0;34m.\u001b[0m\u001b[0mloads\u001b[0m\u001b[0;34m(\u001b[0m\u001b[0mbrandeisCourses\u001b[0m\u001b[0;34m)\u001b[0m\u001b[0;34m\u001b[0m\u001b[0;34m\u001b[0m\u001b[0m\n\u001b[0m",
      "\u001b[0;32m/Library/Frameworks/Python.framework/Versions/3.10/lib/python3.10/json/__init__.py\u001b[0m in \u001b[0;36mloads\u001b[0;34m(s, cls, object_hook, parse_float, parse_int, parse_constant, object_pairs_hook, **kw)\u001b[0m\n\u001b[1;32m    337\u001b[0m     \u001b[0;32melse\u001b[0m\u001b[0;34m:\u001b[0m\u001b[0;34m\u001b[0m\u001b[0;34m\u001b[0m\u001b[0m\n\u001b[1;32m    338\u001b[0m         \u001b[0;32mif\u001b[0m \u001b[0;32mnot\u001b[0m \u001b[0misinstance\u001b[0m\u001b[0;34m(\u001b[0m\u001b[0ms\u001b[0m\u001b[0;34m,\u001b[0m \u001b[0;34m(\u001b[0m\u001b[0mbytes\u001b[0m\u001b[0;34m,\u001b[0m \u001b[0mbytearray\u001b[0m\u001b[0;34m)\u001b[0m\u001b[0;34m)\u001b[0m\u001b[0;34m:\u001b[0m\u001b[0;34m\u001b[0m\u001b[0;34m\u001b[0m\u001b[0m\n\u001b[0;32m--> 339\u001b[0;31m             raise TypeError(f'the JSON object must be str, bytes or bytearray, '\n\u001b[0m\u001b[1;32m    340\u001b[0m                             f'not {s.__class__.__name__}')\n\u001b[1;32m    341\u001b[0m         \u001b[0ms\u001b[0m \u001b[0;34m=\u001b[0m \u001b[0ms\u001b[0m\u001b[0;34m.\u001b[0m\u001b[0mdecode\u001b[0m\u001b[0;34m(\u001b[0m\u001b[0mdetect_encoding\u001b[0m\u001b[0;34m(\u001b[0m\u001b[0ms\u001b[0m\u001b[0;34m)\u001b[0m\u001b[0;34m,\u001b[0m \u001b[0;34m'surrogatepass'\u001b[0m\u001b[0;34m)\u001b[0m\u001b[0;34m\u001b[0m\u001b[0;34m\u001b[0m\u001b[0m\n",
      "\u001b[0;31mTypeError\u001b[0m: the JSON object must be str, bytes or bytearray, not Schedule"
     ]
    }
   ],
   "source": [
    "brandeisCourses = Schedule(courses)\n",
    "print(brandeisCourses)\n",
    "\n",
    "y = json.loads(brandeisCourses)\n"
   ]
  },
  {
   "cell_type": "code",
   "execution_count": 28,
   "id": "56177564-b48b-445e-927b-3b540f121cbf",
   "metadata": {},
   "outputs": [
    {
     "data": {
      "text/plain": [
       "<__main__.Schedule at 0x122648eb0>"
      ]
     },
     "execution_count": 28,
     "metadata": {},
     "output_type": "execute_result"
    }
   ],
   "source": [
    "brandeisCourses.description('data')"
   ]
  },
  {
   "cell_type": "code",
   "execution_count": null,
   "id": "ab4d637b-d28d-4c96-899e-1d0b5133c122",
   "metadata": {},
   "outputs": [],
   "source": []
  }
 ],
 "metadata": {
  "kernelspec": {
   "display_name": "Python 3 (ipykernel)",
   "language": "python",
   "name": "python3"
  },
  "language_info": {
   "codemirror_mode": {
    "name": "ipython",
    "version": 3
   },
   "file_extension": ".py",
   "mimetype": "text/x-python",
   "name": "python",
   "nbconvert_exporter": "python",
   "pygments_lexer": "ipython3",
   "version": "3.10.0"
  }
 },
 "nbformat": 4,
 "nbformat_minor": 5
}
