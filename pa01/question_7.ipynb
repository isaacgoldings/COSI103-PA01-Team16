{
 "cells": [
  {
   "cell_type": "code",
   "execution_count": 53,
   "id": "2247519c-5552-4cb6-87c0-70a7a6cbf6b9",
   "metadata": {},
   "outputs": [
    {
     "data": {
      "text/plain": [
       "{'limit': None,\n",
       " 'times': [],\n",
       " 'enrolled': 0,\n",
       " 'details': \"Instructor's Signature Required.\\nSee Course Catalog for Special Notes.\",\n",
       " 'type': 'section',\n",
       " 'status_text': 'Open Consent Req.',\n",
       " 'section': '2',\n",
       " 'waiting': 0,\n",
       " 'instructor': ['Sharon', 'Feiman-Nemser', 'snemser@brandeis.edu'],\n",
       " 'coinstructors': [],\n",
       " 'code': ['HRNS', '329F'],\n",
       " 'subject': 'HRNS',\n",
       " 'coursenum': '329F',\n",
       " 'name': 'Readings in Jewish Professional Leadership',\n",
       " 'independent_study': True,\n",
       " 'term': '1203',\n",
       " 'description': 'Meets for one-half semester and yields half-course credit.\\n\\nSharon Feiman-Nemser'}"
      ]
     },
     "execution_count": 53,
     "metadata": {},
     "output_type": "execute_result"
    }
   ],
   "source": [
    "import json\n",
    "with open(\"courses20-21.json\",\"r\",encoding='utf-8') as jsonfile:\n",
    "    courses = json.load(jsonfile)\n",
    "courses[0]"
   ]
  },
  {
   "cell_type": "code",
   "execution_count": 56,
   "id": "e92387bd-a879-4f0b-9ed4-484ff04e30dd",
   "metadata": {},
   "outputs": [
    {
     "data": {
      "text/plain": [
       "{'limit': None,\n",
       " 'times': [],\n",
       " 'enrolled': 0,\n",
       " 'details': \"Instructor's Signature Required.\\nSee Course Catalog for Special Notes.\",\n",
       " 'type': 'section',\n",
       " 'status_text': 'Open Consent Req.',\n",
       " 'section': '2',\n",
       " 'waiting': 0,\n",
       " 'instructor': ('Sharon', 'Feiman-Nemser', 'snemser@brandeis.edu'),\n",
       " 'coinstructors': (),\n",
       " 'code': ('HRNS', '329F'),\n",
       " 'subject': 'HRNS',\n",
       " 'coursenum': '329F',\n",
       " 'name': 'Readings in Jewish Professional Leadership',\n",
       " 'independent_study': True,\n",
       " 'term': '1203',\n",
       " 'description': 'Meets for one-half semester and yields half-course credit.\\n\\nSharon Feiman-Nemser'}"
      ]
     },
     "execution_count": 56,
     "metadata": {},
     "output_type": "execute_result"
    }
   ],
   "source": [
    "for course in courses:\n",
    "        course['instructor'] = tuple(course['instructor'])\n",
    "        course['coinstructors'] = tuple([tuple(f) for f in course['coinstructors']])\n",
    "        course['code']= tuple(course['code'])\n",
    "courses[0]"
   ]
  },
  {
   "cell_type": "code",
   "execution_count": 57,
   "id": "f03a98d3-123e-4240-bdf9-5c2597c4d630",
   "metadata": {},
   "outputs": [
    {
     "name": "stdout",
     "output_type": "stream",
     "text": [
      "Subjects Matching:  ['Readings and Research in Anthropology', 'Research in Behavioral Neuroscience', 'Lie Algebras: Representation Theory', 'Readings and Research in Anthropology', 'Research in Behavioral Neuroscience']\n"
     ]
    }
   ],
   "source": [
    "import json\n",
    "\n",
    "with open(\"courses20-21.json\",\"r\",encoding='utf-8') as jsonfile:\n",
    "    courses = json.load(jsonfile)\n",
    "\n",
    "#Filter matching subjects\n",
    "def filterSubject(filter):\n",
    "    classesMatching = []\n",
    "    for course in courses:\n",
    "        if filter in course['code']:\n",
    "            classesMatching.append(course['name'])\n",
    "    print(\"Subjects Matching: \",classesMatching)\n",
    "            \n",
    "filterSubject('223A')\n",
    "\n",
    "\n",
    "\n",
    "# course  -- filter by subject/coursenumber\n",
    "# instructor -- filter by instructor email or lastname\n",
    "# title -- filter by phrase in the title\n",
    "# description -- filter by phrase in the description\n",
    "# Create your own filter (each team member creates their own)\n",
    "\n",
    "\n",
    "\n",
    "\n",
    "\n",
    "\n",
    "class Schedule():\n",
    "    '''\n",
    "    Schedule represent a list of Brandeis classes with operations for filtering\n",
    "    '''\n",
    "    def __init__(self,courses=()):\n",
    "        ''' courses is a tuple of the courses being offered '''\n",
    "        self.courses = courses\n",
    "\n",
    "    def load_courses(self):\n",
    "        ''' load_courses reads the course data from the courses.json file'''\n",
    "        print('getting archived regdata from file')\n",
    "        with open(\"courses20-21.json\",\"r\",encoding='utf-8') as jsonfile:\n",
    "            courses = json.load(jsonfile)\n",
    "        for course in courses:\n",
    "            course['instructor'] = tuple(course['instructor'])\n",
    "            course['coinstructors'] = [tuple(f) for f in course['coinstructors']]\n",
    "        self.courses = tuple(courses)  # making it a tuple means it is immutable\n",
    "\n",
    "    def lastname(self,names):\n",
    "        ''' lastname returns the courses by a particular instructor last name'''\n",
    "        return Schedule([course for course in self.courses if course['instructor'][1] in names])\n",
    "\n",
    "    def email(self,emails):\n",
    "        ''' email returns the courses by a particular instructor email'''\n",
    "        return Schedule([course for course in self.courses if course['instructor'][2] in emails])\n",
    "\n",
    "    def term(self,terms):\n",
    "        ''' email returns the courses in a list of term'''\n",
    "        return Schedule([course for course in self.courses if course['term'] in terms])\n",
    "\n",
    "    def enrolled(self,vals):\n",
    "        ''' enrolled filters for enrollment numbers in the list of vals'''\n",
    "        return Schedule([course for course in self.courses if course['enrolled'] in vals])\n",
    "\n",
    "    def subject(self,subjects):\n",
    "        ''' subject filters the courses by subject '''\n",
    "        return Schedule([course for course in self.courses if course['subject'] in subjects])\n",
    "\n",
    "    def sort(self,field):\n",
    "        if field=='subject':\n",
    "            return Schedule(sorted(self.courses, key= lambda course: course['subject']))\n",
    "        else:\n",
    "            print(\"can't sort by \"+str(field)+\" yet\")\n",
    "            return self\n",
    "        \n",
    "    def title(self,phrase):\n",
    "        \n",
    "        return Schedule([course for course in self.courses if course['name'] in phrase])\n",
    "    \n",
    "    def description(self,phrase):\n",
    "        \n",
    "        return Schedule([course for course in self.courses if course['description'] in phrase])\n",
    "    \n",
    "    def enroll_limit(self):\n",
    "        \n",
    "        return Schedule([course for course in self.courses if course['limit'] == null])\n",
    "        \n",
    "    \n",
    "\n",
    " \n"
   ]
  }
 ],
 "metadata": {
  "kernelspec": {
   "display_name": "Python 3 (ipykernel)",
   "language": "python",
   "name": "python3"
  },
  "language_info": {
   "codemirror_mode": {
    "name": "ipython",
    "version": 3
   },
   "file_extension": ".py",
   "mimetype": "text/x-python",
   "name": "python",
   "nbconvert_exporter": "python",
   "pygments_lexer": "ipython3",
   "version": "3.10.0"
  }
 },
 "nbformat": 4,
 "nbformat_minor": 5
}
